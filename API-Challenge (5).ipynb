{
 "cells": [
  {
   "cell_type": "code",
   "execution_count": 10,
   "metadata": {},
   "outputs": [
    {
     "ename": "ModuleNotFoundError",
     "evalue": "No module named 'api_keys'",
     "output_type": "error",
     "traceback": [
      "\u001b[1;31m---------------------------------------------------------------------------\u001b[0m",
      "\u001b[1;31mModuleNotFoundError\u001b[0m                       Traceback (most recent call last)",
      "\u001b[1;32m<ipython-input-10-7500cb679c10>\u001b[0m in \u001b[0;36m<module>\u001b[1;34m\u001b[0m\n\u001b[0;32m      8\u001b[0m \u001b[1;33m\u001b[0m\u001b[0m\n\u001b[0;32m      9\u001b[0m \u001b[1;31m# Import API key\u001b[0m\u001b[1;33m\u001b[0m\u001b[1;33m\u001b[0m\u001b[1;33m\u001b[0m\u001b[0m\n\u001b[1;32m---> 10\u001b[1;33m \u001b[1;32mimport\u001b[0m \u001b[0mapi_keys\u001b[0m\u001b[1;33m\u001b[0m\u001b[1;33m\u001b[0m\u001b[0m\n\u001b[0m\u001b[0;32m     11\u001b[0m \u001b[1;32mimport\u001b[0m \u001b[0mweather_api_keys\u001b[0m\u001b[1;33m\u001b[0m\u001b[1;33m\u001b[0m\u001b[0m\n\u001b[0;32m     12\u001b[0m \u001b[1;33m\u001b[0m\u001b[0m\n",
      "\u001b[1;31mModuleNotFoundError\u001b[0m: No module named 'api_keys'"
     ]
    }
   ],
   "source": [
    "# Dependencies and Setup\n",
    "import matplotlib.pyplot as plt\n",
    "import pandas as pd\n",
    "import numpy as np\n",
    "import requests\n",
    "import time\n",
    "from scipy.stats import linregress\n",
    "\n",
    "# Import API key\n",
    "import api_keys \n",
    "import weather_api_keys\n",
    "\n",
    "# Incorporated citipy to determine city based on latitude and longitude\n",
    "from citipy import citipy\n",
    "\n",
    "# Output File (CSV)\n",
    "output_data_file = \"output_data/cities.csv\"\n",
    "\n",
    "# Range of latitudes and longitudes\n",
    "lat_range = (-90, 90)\n",
    "lng_range = (-180, 180)"
   ]
  },
  {
   "cell_type": "code",
   "execution_count": 11,
   "metadata": {},
   "outputs": [
    {
     "ename": "NameError",
     "evalue": "name 'lat_range' is not defined",
     "output_type": "error",
     "traceback": [
      "\u001b[1;31m---------------------------------------------------------------------------\u001b[0m",
      "\u001b[1;31mNameError\u001b[0m                                 Traceback (most recent call last)",
      "\u001b[1;32m<ipython-input-11-4c1c83540bbb>\u001b[0m in \u001b[0;36m<module>\u001b[1;34m\u001b[0m\n\u001b[0;32m      4\u001b[0m \u001b[1;33m\u001b[0m\u001b[0m\n\u001b[0;32m      5\u001b[0m \u001b[1;31m# Create a set of random lat and lng combinations\u001b[0m\u001b[1;33m\u001b[0m\u001b[1;33m\u001b[0m\u001b[1;33m\u001b[0m\u001b[0m\n\u001b[1;32m----> 6\u001b[1;33m \u001b[0mlats\u001b[0m \u001b[1;33m=\u001b[0m \u001b[0mnp\u001b[0m\u001b[1;33m.\u001b[0m\u001b[0mrandom\u001b[0m\u001b[1;33m.\u001b[0m\u001b[0muniform\u001b[0m\u001b[1;33m(\u001b[0m\u001b[0mlat_range\u001b[0m\u001b[1;33m[\u001b[0m\u001b[1;36m0\u001b[0m\u001b[1;33m]\u001b[0m\u001b[1;33m,\u001b[0m \u001b[0mlat_range\u001b[0m\u001b[1;33m[\u001b[0m\u001b[1;36m1\u001b[0m\u001b[1;33m]\u001b[0m\u001b[1;33m,\u001b[0m \u001b[0msize\u001b[0m\u001b[1;33m=\u001b[0m\u001b[1;36m1500\u001b[0m\u001b[1;33m)\u001b[0m\u001b[1;33m\u001b[0m\u001b[1;33m\u001b[0m\u001b[0m\n\u001b[0m\u001b[0;32m      7\u001b[0m \u001b[0mlngs\u001b[0m \u001b[1;33m=\u001b[0m \u001b[0mnp\u001b[0m\u001b[1;33m.\u001b[0m\u001b[0mrandom\u001b[0m\u001b[1;33m.\u001b[0m\u001b[0muniform\u001b[0m\u001b[1;33m(\u001b[0m\u001b[0mlng_range\u001b[0m\u001b[1;33m[\u001b[0m\u001b[1;36m0\u001b[0m\u001b[1;33m]\u001b[0m\u001b[1;33m,\u001b[0m \u001b[0mlng_range\u001b[0m\u001b[1;33m[\u001b[0m\u001b[1;36m1\u001b[0m\u001b[1;33m]\u001b[0m\u001b[1;33m,\u001b[0m \u001b[0msize\u001b[0m\u001b[1;33m=\u001b[0m\u001b[1;36m1500\u001b[0m\u001b[1;33m)\u001b[0m\u001b[1;33m\u001b[0m\u001b[1;33m\u001b[0m\u001b[0m\n\u001b[0;32m      8\u001b[0m \u001b[0mlat_lngs\u001b[0m \u001b[1;33m=\u001b[0m \u001b[0mzip\u001b[0m\u001b[1;33m(\u001b[0m\u001b[0mlats\u001b[0m\u001b[1;33m,\u001b[0m \u001b[0mlngs\u001b[0m\u001b[1;33m)\u001b[0m\u001b[1;33m\u001b[0m\u001b[1;33m\u001b[0m\u001b[0m\n",
      "\u001b[1;31mNameError\u001b[0m: name 'lat_range' is not defined"
     ]
    }
   ],
   "source": [
    "# List for holding lat_lngs and cities\n",
    "lat_lngs = []\n",
    "cities = []\n",
    "\n",
    "# Create a set of random lat and lng combinations\n",
    "lats = np.random.uniform(lat_range[0], lat_range[1], size=1500)\n",
    "lngs = np.random.uniform(lng_range[0], lng_range[1], size=1500)\n",
    "lat_lngs = zip(lats, lngs)\n",
    "\n",
    "# Identify nearest city for each lat, lng combination\n",
    "for lat_lng in lat_lngs:\n",
    "    city = citipy.nearest_city(lat_lng[0], lat_lng[1]).city_name\n",
    "    \n",
    "    # If the city is unique, then add it to a our cities list\n",
    "    if city not in cities:\n",
    "        cities.append(city)\n",
    "\n",
    "# Print the city count to confirm sufficient count\n",
    "len(cities) "
   ]
  },
  {
   "cell_type": "code",
   "execution_count": 12,
   "metadata": {},
   "outputs": [
    {
     "ename": "NameError",
     "evalue": "name 'colum_names' is not defined",
     "output_type": "error",
     "traceback": [
      "\u001b[1;31m---------------------------------------------------------------------------\u001b[0m",
      "\u001b[1;31mNameError\u001b[0m                                 Traceback (most recent call last)",
      "\u001b[1;32m<ipython-input-12-fd99cb79be81>\u001b[0m in \u001b[0;36m<module>\u001b[1;34m\u001b[0m\n\u001b[1;32m----> 1\u001b[1;33m \u001b[0mcolum_names\u001b[0m \u001b[1;33m-\u001b[0m \u001b[1;33m(\u001b[0m\u001b[1;34m'City_ID'\u001b[0m\u001b[1;33m,\u001b[0m \u001b[1;34m'City'\u001b[0m\u001b[1;33m,\u001b[0m \u001b[1;34m'Cloudiness'\u001b[0m\u001b[1;33m,\u001b[0m \u001b[1;34m'Country'\u001b[0m\u001b[1;33m,\u001b[0m \u001b[1;34m'Date'\u001b[0m\u001b[1;33m,\u001b[0m \u001b[1;34m'Humidity'\u001b[0m\u001b[1;33m,\u001b[0m \u001b[1;34m'Lat'\u001b[0m\u001b[1;33m,\u001b[0m \u001b[1;34m'Lng'\u001b[0m\u001b[1;33m,\u001b[0m \u001b[1;34m'Max Temp'\u001b[0m\u001b[1;33m,\u001b[0m \u001b[1;34m'Wind Speed'\u001b[0m \u001b[1;33m)\u001b[0m\u001b[1;33m\u001b[0m\u001b[1;33m\u001b[0m\u001b[0m\n\u001b[0m\u001b[0;32m      2\u001b[0m \u001b[1;33m\u001b[0m\u001b[0m\n\u001b[0;32m      3\u001b[0m \u001b[0mcities_chart_df\u001b[0m \u001b[1;33m=\u001b[0m \u001b[0mpd\u001b[0m\u001b[1;33m.\u001b[0m\u001b[0mDataFrame\u001b[0m\u001b[1;33m(\u001b[0m\u001b[0mcolums\u001b[0m \u001b[1;33m=\u001b[0m \u001b[0mcolumn_names\u001b[0m\u001b[1;33m)\u001b[0m\u001b[1;33m\u001b[0m\u001b[1;33m\u001b[0m\u001b[0m\n\u001b[0;32m      4\u001b[0m \u001b[1;33m\u001b[0m\u001b[0m\n\u001b[0;32m      5\u001b[0m \u001b[0mcities_chart_df\u001b[0m\u001b[1;33m\u001b[0m\u001b[1;33m\u001b[0m\u001b[0m\n",
      "\u001b[1;31mNameError\u001b[0m: name 'colum_names' is not defined"
     ]
    }
   ],
   "source": [
    "colum_names - ('City_ID', 'City', 'Cloudiness', 'Country', 'Date', 'Humidity', 'Lat', 'Lng', 'Max Temp', 'Wind Speed' )\n",
    "\n",
    "cities_chart_df = pd.DataFrame(colums = column_names)\n",
    "\n",
    "cities_chart_df\n",
    "\n",
    "import cities.csv\n",
    "\n"
   ]
  },
  {
   "cell_type": "code",
   "execution_count": 13,
   "metadata": {},
   "outputs": [
    {
     "ename": "SyntaxError",
     "evalue": "unexpected character after line continuation character (<ipython-input-13-59d60858cf4f>, line 1)",
     "output_type": "error",
     "traceback": [
      "\u001b[1;36m  File \u001b[1;32m\"<ipython-input-13-59d60858cf4f>\"\u001b[1;36m, line \u001b[1;32m1\u001b[0m\n\u001b[1;33m    url = f\\\"http://api.openweathermap.org/data/2.5/weather?units=Imperial&appid={3f28764bcd4bc3838ccb29a3e77857bf}\u001b[0m\n\u001b[1;37m                                                                                                                   ^\u001b[0m\n\u001b[1;31mSyntaxError\u001b[0m\u001b[1;31m:\u001b[0m unexpected character after line continuation character\n"
     ]
    }
   ],
   "source": [
    "url = f\\\"http://api.openweathermap.org/data/2.5/weather?units=Imperial&appid={3f28764bcd4bc3838ccb29a3e77857bf}\n",
    "city_data = []\n",
    "\n",
    "for i, city enumerate(cities):\n",
    "    print(f\"Working on Record: {i}\")\n",
    "    query_url = url + \"&q={city}\n",
    "\n",
    "    \n",
    "    try:\n",
    "    response = requests.get(query_url).json()\n",
    "   \n",
    "    city_lat = responce[\"coord\"][\"lat\"]\n",
    "    city_lng = responce[\"coord\"][\"lon\"]\n",
    "    city_max_temp = responce[\"coord\"][\"lat\"]\n",
    "    city_humidity = responce[\"coord\"][\"lat\"]\n",
    "    city_clouds = responce[\"coord\"][\"lat\"]\n",
    "    city_wind = responce[\"coord\"][\"lat\"]\n",
    "    \n",
    "    city_data.append({\n",
    "        \"cit\": city,\n",
    "        lat\n",
    "        lng\n",
    "        \n",
    "    })\n",
    "    \n",
    "     print\n",
    "        \n",
    "    except: \n",
    "        print(\"City not in Database. Skip.\")\n",
    "        pass\n",
    "    \n",
    "        "
   ]
  },
  {
   "cell_type": "code",
   "execution_count": 14,
   "metadata": {},
   "outputs": [
    {
     "ename": "SyntaxError",
     "evalue": "unexpected character after line continuation character (<ipython-input-14-94ed3645ad72>, line 1)",
     "output_type": "error",
     "traceback": [
      "\u001b[1;36m  File \u001b[1;32m\"<ipython-input-14-94ed3645ad72>\"\u001b[1;36m, line \u001b[1;32m1\u001b[0m\n\u001b[1;33m    city_df = city_lat = response[\\\"coord\\\"][\\\"lat\\\"] for data\u001b[0m\n\u001b[1;37m                                                              ^\u001b[0m\n\u001b[1;31mSyntaxError\u001b[0m\u001b[1;31m:\u001b[0m unexpected character after line continuation character\n"
     ]
    }
   ],
   "source": [
    "city_df = city_lat = response[\\\"coord\\\"][\\\"lat\\\"] for data\n",
    "            city_lng = response[\\\"coord\\\"][\\\"lon\"] for data\n",
    "            city_max_temp = response[\\\"coord\\\"][\\\"lon\"] for data\n",
    "            city_humidity = response[\\\"coord\\\"][\\\"lon\"] for data\n",
    "            city_clouds = response[\\\"coord\\\"][\\\"lon\"] for data\n",
    "            city_wind = response[\\\"coord\\\"][\\\"lon\"] for data\n",
    "            "
   ]
  },
  {
   "cell_type": "code",
   "execution_count": 15,
   "metadata": {},
   "outputs": [
    {
     "ename": "SyntaxError",
     "evalue": "invalid syntax (<ipython-input-15-5dbc8aa94e12>, line 9)",
     "output_type": "error",
     "traceback": [
      "\u001b[1;36m  File \u001b[1;32m\"<ipython-input-15-5dbc8aa94e12>\"\u001b[1;36m, line \u001b[1;32m9\u001b[0m\n\u001b[1;33m    weather_info = weather_info ['city name', 'country', 'lat', 'lng', 'temp', 'humidity', 'cloudiness,'winds']\u001b[0m\n\u001b[1;37m                                                                                                        ^\u001b[0m\n\u001b[1;31mSyntaxError\u001b[0m\u001b[1;31m:\u001b[0m invalid syntax\n"
     ]
    }
   ],
   "source": [
    "weather_info = pd.DataFrame({\"cityName\": city_list,\n",
    "                            \"country\": country_list,\n",
    "                             \"lat\": lat_list,\n",
    "                             \"lng\": lng_list,\n",
    "                             \"Temp\": temp_list,\n",
    "                             \"humidity\": humid_list,\n",
    "                             \"cloudiess\": cloud_list,\n",
    "                             \"winds\": wind_list,})\n",
    "weather_info = weather_info ['city name', 'country', 'lat', 'lng', 'temp', 'humidity', 'cloudiness,'winds']"
   ]
  },
  {
   "cell_type": "code",
   "execution_count": 16,
   "metadata": {},
   "outputs": [
    {
     "ename": "SyntaxError",
     "evalue": "invalid syntax (<ipython-input-16-a3a3bb710e3e>, line 3)",
     "output_type": "error",
     "traceback": [
      "\u001b[1;36m  File \u001b[1;32m\"<ipython-input-16-a3a3bb710e3e>\"\u001b[1;36m, line \u001b[1;32m3\u001b[0m\n\u001b[1;33m    plt.scatter(weather_info{\"lat\"}, weather_info{\"temp\"})\u001b[0m\n\u001b[1;37m                            ^\u001b[0m\n\u001b[1;31mSyntaxError\u001b[0m\u001b[1;31m:\u001b[0m invalid syntax\n"
     ]
    }
   ],
   "source": [
    "#plott\n",
    "\n",
    "plt.scatter(weather_info{\"lat\"}, weather_info{\"temp\"})\n",
    "\n",
    "#lables\n",
    "plt.title(\"Temp vs Latitude\")\n",
    "plt.ylable(\"Temp\")\n",
    "plt.xlable(\"Latitude\")\n",
    "plt.grid\n",
    "\n",
    "plt.show\n",
    "\n",
    "plt.title(\"Latitude vs Humidity\")\n",
    "plt.ylable(\"Latitude\")\n",
    "plt.xlable(\"Humidity\")\n",
    "plt.grid\n",
    "\n",
    "plt.show\n",
    "\n",
    "plt.title(\"Latitude vs Cloudiess\")\n",
    "plt.ylable(\"Latitude\")\n",
    "plt.xlable(\"Cloudiess\")\n",
    "plt.grid\n",
    "\n",
    "plt.show\n",
    "\n",
    "plt.title(\"Latitude vs Wind Speed\")\n",
    "plt.ylable(\"Latitude\")\n",
    "plt.xlable(\"Wind Speed\")\n",
    "plt.grid\n",
    "\n",
    "plt.show"
   ]
  },
  {
   "cell_type": "code",
   "execution_count": null,
   "metadata": {},
   "outputs": [],
   "source": [
    "    Print(query_url)"
   ]
  },
  {
   "cell_type": "code",
   "execution_count": 17,
   "metadata": {},
   "outputs": [
    {
     "ename": "SyntaxError",
     "evalue": "invalid syntax (<ipython-input-17-9233aeb9d9ea>, line 2)",
     "output_type": "error",
     "traceback": [
      "\u001b[1;36m  File \u001b[1;32m\"<ipython-input-17-9233aeb9d9ea>\"\u001b[1;36m, line \u001b[1;32m2\u001b[0m\n\u001b[1;33m    api_key = \"3f28764bcd4bc3838ccb29a3e77857bf\"\u001b[0m\n\u001b[1;37m            ^\u001b[0m\n\u001b[1;31mSyntaxError\u001b[0m\u001b[1;31m:\u001b[0m invalid syntax\n"
     ]
    }
   ],
   "source": [
    "source: [\n",
    "    api_key = \"3f28764bcd4bc3838ccb29a3e77857bf\"\n",
    "    \n",
    "    url = f\\\"http://api.openweathermap.org/data/2.5/weather?units=Imperial&appid={3f28764bcd4bc3838ccb29a3e77857bf},\n",
    "    \n",
    "    city_data = [],\n",
    "    for i, city in enumerate(cities[0:3]),\n",
    "\n",
    "    query_url = url + f\\\"&q={city},\n",
    "        try:\n",
    "            response = requests.get(query_url).json(),\n",
    "            city_lat = response[\\\"coord\\\"][\\\"lat\\\"],\n",
    "            city_lng = response[\\\"coord\\\"][\\\"lon\\\"],\n",
    "            city_max_temp = \n",
    "            city_humidity = \n",
    "            city_clouds = \n",
    "            city_wind =\n",
    "            \n",
    "            city_data.append({\n",
    "                \\\"city\\\": \n",
    "                \\\"lat\\\": \n",
    "                \\\"lng\\\":\n",
    "               \\\n",
    "            })\\n\",\n",
    "            \\n\",\n",
    "            print(f\\\"Working on Record: {i}\\\"),\n",
    "        except:\\n\",\n",
    "            print(\\\"City not in database.  Skip.\\\"),\n",
    "            pass,\n",
    "    \n",
    "   ]\n",
    "  },\n"
   ]
  },
  {
   "cell_type": "code",
   "execution_count": 18,
   "metadata": {},
   "outputs": [
    {
     "ename": "SyntaxError",
     "evalue": "invalid syntax (<ipython-input-18-baa167429380>, line 1)",
     "output_type": "error",
     "traceback": [
      "\u001b[1;36m  File \u001b[1;32m\"<ipython-input-18-baa167429380>\"\u001b[1;36m, line \u001b[1;32m1\u001b[0m\n\u001b[1;33m    Northern Hemisphere - Max Temp vs. Latitude Linear Regression\u001b[0m\n\u001b[1;37m             ^\u001b[0m\n\u001b[1;31mSyntaxError\u001b[0m\u001b[1;31m:\u001b[0m invalid syntax\n"
     ]
    }
   ],
   "source": [
    "Northern Hemisphere - Max Temp vs. Latitude Linear Regression\n",
    "The r-value is: 0.46937863826630627"
   ]
  },
  {
   "cell_type": "code",
   "execution_count": 19,
   "metadata": {},
   "outputs": [
    {
     "ename": "SyntaxError",
     "evalue": "invalid syntax (<ipython-input-19-32c944f71e13>, line 1)",
     "output_type": "error",
     "traceback": [
      "\u001b[1;36m  File \u001b[1;32m\"<ipython-input-19-32c944f71e13>\"\u001b[1;36m, line \u001b[1;32m1\u001b[0m\n\u001b[1;33m    Southern Hemisphere - Max Temp vs. Latitude Linear Regression\u001b[0m\n\u001b[1;37m             ^\u001b[0m\n\u001b[1;31mSyntaxError\u001b[0m\u001b[1;31m:\u001b[0m invalid syntax\n"
     ]
    }
   ],
   "source": [
    "Southern Hemisphere - Max Temp vs. Latitude Linear Regression\n",
    "The r-value is: 0.6082708688906918"
   ]
  },
  {
   "cell_type": "code",
   "execution_count": 20,
   "metadata": {},
   "outputs": [
    {
     "ename": "SyntaxError",
     "evalue": "invalid syntax (<ipython-input-20-19a462925eea>, line 1)",
     "output_type": "error",
     "traceback": [
      "\u001b[1;36m  File \u001b[1;32m\"<ipython-input-20-19a462925eea>\"\u001b[1;36m, line \u001b[1;32m1\u001b[0m\n\u001b[1;33m    Northern Hemisphere - Humidity (%) vs. Latitude Linear Regression\u001b[0m\n\u001b[1;37m             ^\u001b[0m\n\u001b[1;31mSyntaxError\u001b[0m\u001b[1;31m:\u001b[0m invalid syntax\n"
     ]
    }
   ],
   "source": [
    "Northern Hemisphere - Humidity (%) vs. Latitude Linear Regression\n",
    "The r-value is: 0.000543987878808455"
   ]
  },
  {
   "cell_type": "code",
   "execution_count": 21,
   "metadata": {},
   "outputs": [
    {
     "ename": "SyntaxError",
     "evalue": "invalid syntax (<ipython-input-21-a0010fb7537b>, line 1)",
     "output_type": "error",
     "traceback": [
      "\u001b[1;36m  File \u001b[1;32m\"<ipython-input-21-a0010fb7537b>\"\u001b[1;36m, line \u001b[1;32m1\u001b[0m\n\u001b[1;33m    Southern Hemisphere - Humidity (%) vs. Latitude Linear Regression\u001b[0m\n\u001b[1;37m             ^\u001b[0m\n\u001b[1;31mSyntaxError\u001b[0m\u001b[1;31m:\u001b[0m invalid syntax\n"
     ]
    }
   ],
   "source": [
    "Southern Hemisphere - Humidity (%) vs. Latitude Linear Regression\n",
    "The r-value is: 0.014985174297345524"
   ]
  },
  {
   "cell_type": "code",
   "execution_count": 22,
   "metadata": {},
   "outputs": [
    {
     "ename": "SyntaxError",
     "evalue": "invalid syntax (<ipython-input-22-8f19f5ff8b25>, line 1)",
     "output_type": "error",
     "traceback": [
      "\u001b[1;36m  File \u001b[1;32m\"<ipython-input-22-8f19f5ff8b25>\"\u001b[1;36m, line \u001b[1;32m1\u001b[0m\n\u001b[1;33m    Northern Hemisphere - Cloudiness (%) vs. Latitude Linear Regression\u001b[0m\n\u001b[1;37m             ^\u001b[0m\n\u001b[1;31mSyntaxError\u001b[0m\u001b[1;31m:\u001b[0m invalid syntax\n"
     ]
    }
   ],
   "source": [
    "Northern Hemisphere - Cloudiness (%) vs. Latitude Linear Regression\n",
    "The r-value is: 0.0020898727664228514"
   ]
  },
  {
   "cell_type": "code",
   "execution_count": 23,
   "metadata": {},
   "outputs": [
    {
     "ename": "SyntaxError",
     "evalue": "invalid syntax (<ipython-input-23-8774041d0c8b>, line 1)",
     "output_type": "error",
     "traceback": [
      "\u001b[1;36m  File \u001b[1;32m\"<ipython-input-23-8774041d0c8b>\"\u001b[1;36m, line \u001b[1;32m1\u001b[0m\n\u001b[1;33m    Southern Hemisphere - Cloudiness (%) vs. Latitude Linear Regression\u001b[0m\n\u001b[1;37m             ^\u001b[0m\n\u001b[1;31mSyntaxError\u001b[0m\u001b[1;31m:\u001b[0m invalid syntax\n"
     ]
    }
   ],
   "source": [
    "Southern Hemisphere - Cloudiness (%) vs. Latitude Linear Regression\n",
    "The r-value is: 0.0035263772085582894"
   ]
  },
  {
   "cell_type": "code",
   "execution_count": 24,
   "metadata": {},
   "outputs": [
    {
     "ename": "SyntaxError",
     "evalue": "invalid syntax (<ipython-input-24-bff6cc9fde72>, line 1)",
     "output_type": "error",
     "traceback": [
      "\u001b[1;36m  File \u001b[1;32m\"<ipython-input-24-bff6cc9fde72>\"\u001b[1;36m, line \u001b[1;32m1\u001b[0m\n\u001b[1;33m    Northern Hemisphere - Wind Speed (mph) vs. Latitude Linear Regression\u001b[0m\n\u001b[1;37m             ^\u001b[0m\n\u001b[1;31mSyntaxError\u001b[0m\u001b[1;31m:\u001b[0m invalid syntax\n"
     ]
    }
   ],
   "source": [
    "Northern Hemisphere - Wind Speed (mph) vs. Latitude Linear Regression\n",
    "The r-value is: 0.04019723576144484"
   ]
  },
  {
   "cell_type": "code",
   "execution_count": 25,
   "metadata": {},
   "outputs": [
    {
     "ename": "SyntaxError",
     "evalue": "invalid syntax (<ipython-input-25-8f5cf9d1bdbd>, line 1)",
     "output_type": "error",
     "traceback": [
      "\u001b[1;36m  File \u001b[1;32m\"<ipython-input-25-8f5cf9d1bdbd>\"\u001b[1;36m, line \u001b[1;32m1\u001b[0m\n\u001b[1;33m    Southern Hemisphere - Wind Speed (mph) vs. Latitude Linear Regression\u001b[0m\n\u001b[1;37m             ^\u001b[0m\n\u001b[1;31mSyntaxError\u001b[0m\u001b[1;31m:\u001b[0m invalid syntax\n"
     ]
    }
   ],
   "source": [
    "Southern Hemisphere - Wind Speed (mph) vs. Latitude Linear Regression\n",
    "The r-value is: 0.017128274759839232"
   ]
  },
  {
   "cell_type": "code",
   "execution_count": null,
   "metadata": {},
   "outputs": [],
   "source": []
  }
 ],
 "metadata": {
  "kernelspec": {
   "display_name": "Python 3",
   "language": "python",
   "name": "python3"
  },
  "language_info": {
   "codemirror_mode": {
    "name": "ipython",
    "version": 3
   },
   "file_extension": ".py",
   "mimetype": "text/x-python",
   "name": "python",
   "nbconvert_exporter": "python",
   "pygments_lexer": "ipython3",
   "version": "3.8.3"
  }
 },
 "nbformat": 4,
 "nbformat_minor": 4
}
